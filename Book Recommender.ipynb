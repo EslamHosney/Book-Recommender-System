{
 "cells": [
  {
   "cell_type": "code",
   "execution_count": 1,
   "metadata": {
    "collapsed": true
   },
   "outputs": [],
   "source": [
    "import pandas as pd\n",
    "import numpy as np\n",
    "import matplotlib.pyplot as plt"
   ]
  },
  {
   "cell_type": "markdown",
   "metadata": {},
   "source": [
    "## Read me:\n",
    "\n",
    "- The minUserR and minBookR will be used to ensure statistical significance, please set to 0 if not required. Here I will set to 200, 100 as suggested in the example.\n",
    "- To get the the N recommendations for each user, we will get the similarity for each book and remaining books and get the highest N\n",
    "- Here, we have the similarity for each book with all the books rated 10, then we have have N ratings for each book.I though of 2 ways to deal with this:\n",
    "<ul>\n",
    "<li>Average Rating Technique, Get the average for each book similarity from all N, and use this as an indicator, but the problem with this apprach if we have a book too similar to 1 book and has low similarity with other books will be neglected only books that are similar to all books will be considered which may results in book too far from each highly rated books. fn \"getTopNRecommentationsforUserAvg\"</li>\n",
    "<li>Individual Rating Technique, Keep each similarity for each book and order total list, that will solve the problem mentioned above in case the user has highly rated books in different domains the recommender will return result for each book . fn \"getTopNRecommentationsforUser\"</li>\n",
    "</ul>\n",
    "- I will check the result from each system and compare the rating of the user \"which will not be considered in the system due to minimum ratings filter\" to the recommendations to see which is better."
   ]
  },
  {
   "cell_type": "code",
   "execution_count": 2,
   "metadata": {
    "collapsed": false
   },
   "outputs": [
    {
     "name": "stderr",
     "output_type": "stream",
     "text": [
      "C:\\Users\\be231\\AppData\\Local\\Continuum\\Anaconda3\\lib\\site-packages\\IPython\\core\\interactiveshell.py:2717: DtypeWarning: Columns (3) have mixed types. Specify dtype option on import or set low_memory=False.\n",
      "  interactivity=interactivity, compiler=compiler, result=result)\n"
     ]
    }
   ],
   "source": [
    "books = pd.read_csv('BX-Books.csv', sep=';', error_bad_lines=False, warn_bad_lines=False, encoding=\"latin-1\")\n",
    "books.columns = ['ISBN', 'bookTitle', 'bookAuthor', 'yearOfPublication', 'publisher', 'imageUrlS', 'imageUrlM', 'imageUrlL']\n",
    "users = pd.read_csv('BX-Users.csv', sep=';', error_bad_lines=False, warn_bad_lines=False, encoding=\"latin-1\")\n",
    "users.columns = ['userID', 'Location', 'Age']\n",
    "ratingsOriginal = pd.read_csv('BX-Book-Ratings.csv', sep=';', error_bad_lines=False, warn_bad_lines=False, encoding=\"latin-1\")\n",
    "ratingsOriginal.columns = ['userID', 'ISBN', 'bookRating']\n",
    "ratings = pd.read_csv('BX-Book-Ratings.csv', sep=';', error_bad_lines=False, warn_bad_lines=False, encoding=\"latin-1\")\n",
    "ratings.columns = ['userID', 'ISBN', 'bookRating']"
   ]
  },
  {
   "cell_type": "code",
   "execution_count": 3,
   "metadata": {
    "collapsed": false
   },
   "outputs": [],
   "source": [
    "minUserR = 200 # minimum number of rating per user"
   ]
  },
  {
   "cell_type": "code",
   "execution_count": 4,
   "metadata": {
    "collapsed": false
   },
   "outputs": [],
   "source": [
    "minBookR = 100 # minimum number of rating per book"
   ]
  },
  {
   "cell_type": "code",
   "execution_count": 5,
   "metadata": {
    "collapsed": true
   },
   "outputs": [],
   "source": [
    "minRating = 10 # minimum rating value for book to get the similar books"
   ]
  },
  {
   "cell_type": "code",
   "execution_count": 6,
   "metadata": {
    "collapsed": false
   },
   "outputs": [],
   "source": [
    "\n",
    "countUserR = ratings['userID'].value_counts()\n",
    "ratings = ratings[ratings['userID'].isin(countUserR[countUserR >= minUserR].index)]\n",
    "countBookR = ratings['ISBN'].value_counts()\n",
    "ratings = ratings[ratings['ISBN'].isin(countBookR[countBookR >= minBookR].index)]"
   ]
  },
  {
   "cell_type": "code",
   "execution_count": 7,
   "metadata": {
    "collapsed": false
   },
   "outputs": [],
   "source": [
    "ratings_pivot = ratings.pivot(index='userID', columns='ISBN', values='bookRating')"
   ]
  },
  {
   "cell_type": "code",
   "execution_count": 8,
   "metadata": {
    "collapsed": true
   },
   "outputs": [],
   "source": [
    "def getTopNRecommentationsforUserAvg(userID,N,minRating,ratings_pivot):\n",
    "    #get books rated \"minRating\" by the user\n",
    "    topBookUser = ratings[(ratings['userID'] == userID) & (ratings['bookRating'] >= minRating)].sort_values('bookRating', ascending=False)\n",
    "    topRatedBooksUser = []\n",
    "    bookSimList = []\n",
    "    #for each book get the similarities with other books\n",
    "    for bookISBN in topBookUser['ISBN']:\n",
    "        #print(bookISBN)\n",
    "        topRatedBooksUser.append(bookISBN)\n",
    "        book_ratings = ratings_pivot[bookISBN]\n",
    "        bookSimilarities = ratings_pivot.corrwith(book_ratings)\n",
    "        #print(bookSimilarities.head())\n",
    "        corr_bones = pd.DataFrame(bookSimilarities, columns=['pearsonR'])\n",
    "        corr_bones.dropna(inplace=True)\n",
    "        corr_bones = corr_bones.sort_values('pearsonR', ascending=False)\n",
    "        #print(corr_bones.head())\n",
    "        #print(corr_bones.columns)\n",
    "        bookSimList.append(corr_bones)# save the similarities for each book\n",
    "        \n",
    "    bookSimComb = pd.concat(bookSimList)# create 1 df from all similarities of all books\n",
    "    bookSimComb = bookSimComb.groupby(bookSimComb.index).mean()\n",
    "    bookSimComb = bookSimComb.sort_values('pearsonR', ascending=False)\n",
    "    #print(bookSimComb.columns)\n",
    "    #print(bookSimComb.head())\n",
    "    topNbooks = bookSimComb.head(N+len(topRatedBooksUser))\n",
    "    topNbooksList = list(topNbooks.drop('pearsonR',axis=1).index)\n",
    "    x = []\n",
    "    for book in topNbooksList:\n",
    "        if (book not in topRatedBooksUser):\n",
    "            x.append(book)\n",
    "    return x"
   ]
  },
  {
   "cell_type": "code",
   "execution_count": 9,
   "metadata": {
    "collapsed": true
   },
   "outputs": [],
   "source": [
    "def getTopNRecommentationsforUser(userID,N,minRating,ratings_pivot):\n",
    "    #get books rated \"minRating\" by the user\n",
    "    topBookUser = ratings[(ratings['userID'] == userID) & (ratings['bookRating'] >= minRating)].sort_values('bookRating', ascending=False)\n",
    "    topRatedBooksUser = []\n",
    "    bookSimList = []\n",
    "    #for each book get the similarities with other books\n",
    "    for bookISBN in topBookUser['ISBN']:\n",
    "        #print(bookISBN)\n",
    "        topRatedBooksUser.append(bookISBN)\n",
    "        book_ratings = ratings_pivot[bookISBN]\n",
    "        bookSimilarities = ratings_pivot.corrwith(book_ratings)\n",
    "        #print(bookSimilarities.head())\n",
    "        corr_bones = pd.DataFrame(bookSimilarities, columns=['pearsonR'])\n",
    "        corr_bones.dropna(inplace=True)\n",
    "        corr_bones = corr_bones.sort_values('pearsonR', ascending=False)\n",
    "        #print(corr_bones.head())\n",
    "        bookSimList.append(corr_bones)# save the similarities for each book\n",
    "        \n",
    "    bookSimComb = pd.concat(bookSimList)# create 1 df from all similarities of all books\n",
    "    bookSimComb = bookSimComb.sort_values('pearsonR', ascending=False)\n",
    "    #print(bookSimComb.columns)\n",
    "    #print(bookSimComb.head())\n",
    "    topNbooks = bookSimComb.head(N+len(topRatedBooksUser))\n",
    "    return list(topNbooks.drop('pearsonR',axis=1).index)[len(topRatedBooksUser):]"
   ]
  },
  {
   "cell_type": "code",
   "execution_count": 10,
   "metadata": {
    "collapsed": true
   },
   "outputs": [],
   "source": [
    "N = 30"
   ]
  },
  {
   "cell_type": "code",
   "execution_count": 11,
   "metadata": {
    "collapsed": false
   },
   "outputs": [
    {
     "name": "stdout",
     "output_type": "stream",
     "text": [
      "['0385265700', '0446611212', '0440236673', '0440241073', '0446611212', '0385484518', '0345378490', '0345391055', '0446610038', '0440221471', '0345370775', '0553280341', '0345361792', '080410753X', '044651652X', '0671510053', '0385492081', '0316666343', '0553572997', '0345353145', '0553268880', '014028009X', '0312278586', '0446606812', '0440214041', '080410753X', '0449212602', '0446608955', '044022165X', '0440234743']\n",
      "       userID        ISBN  bookRating\n",
      "18007    3363  0312278586           0\n",
      "18025    3363  0316666343           0\n",
      "18229    3363  0440234743           0\n",
      "18230    3363  0440236673           0\n",
      "18254    3363  0446606812           0\n"
     ]
    }
   ],
   "source": [
    "userID = 3363\n",
    "topRecommendations = getTopNRecommentationsforUser(userID,N,minRating,ratings_pivot)\n",
    "print(topRecommendations)\n",
    "\n",
    "print (ratingsOriginal[(ratingsOriginal['userID'] == userID) & ratingsOriginal['ISBN'].isin(topRecommendations)])"
   ]
  },
  {
   "cell_type": "code",
   "execution_count": 12,
   "metadata": {
    "collapsed": false
   },
   "outputs": [
    {
     "name": "stdout",
     "output_type": "stream",
     "text": [
      "18                                          The Testament\n",
      "207                                                 Congo\n",
      "408                             The Lovely Bones: A Novel\n",
      "541                            The Nanny Diaries: A Novel\n",
      "1012                                        The Rainmaker\n",
      "1051                                        SHIPPING NEWS\n",
      "1195                                        Jurassic Park\n",
      "1355                                  Message in a Bottle\n",
      "1387                              A Prayer for Owen Meany\n",
      "1429                               The Kitchen God's Wife\n",
      "1777                                         The Alienist\n",
      "1802                                         The Brethren\n",
      "1863                                  1st to Die: A Novel\n",
      "1908    Into Thin Air : A Personal Account of the Mt. ...\n",
      "1985                                  The Handmaid's Tale\n",
      "2290    Tuesdays with Morrie: An Old Man, a Young Man,...\n",
      "2442                                               Sphere\n",
      "2445                                    The Pelican Brief\n",
      "2536     The Book of Ruth (Oprah's Book Club (Paperback))\n",
      "2866                                     Violets Are Blue\n",
      "3290                                     The Runaway Jury\n",
      "4123                                  The Prince of Tides\n",
      "4180                        The Bridges of Madison County\n",
      "4723                                           Disclosure\n",
      "5070                                Bridget Jones's Diary\n",
      "5607                                   A Walk to Remember\n",
      "5662                                          The Summons\n",
      "7851    B Is for Burglar (Kinsey Millhone Mysteries (P...\n",
      "Name: bookTitle, dtype: object\n"
     ]
    }
   ],
   "source": [
    "print(books[books['ISBN'].isin(topRecommendations)][\"bookTitle\"])"
   ]
  },
  {
   "cell_type": "code",
   "execution_count": 13,
   "metadata": {
    "collapsed": false
   },
   "outputs": [
    {
     "name": "stdout",
     "output_type": "stream",
     "text": [
      "['0345378490', '0312924585', '0440206154', '0553268880', '0345378490', '0971880107', '0446608955', '0446601241', '0375706771', '0345391055', '044651652X', '0440224764', '0345361792', '0385492081', '0452282829', '067976402X', '0312983271', '0553572997', '0440224675', '0440211263', '0385265700', '0553280341', '0671510053', '0345313860', '1400034779', '0345342968', '0786868716', '0446611212', '0060987103', '0156027321']\n",
      "        userID        ISBN  bookRating\n",
      "230019   53174  0312924585          10\n",
      "230049   53174  0345313860           9\n",
      "230211   53174  0440206154          10\n",
      "230347   53174  0553268880           9\n",
      "230353   53174  0553280341           0\n",
      "230534   53174  0971880107           0\n"
     ]
    }
   ],
   "source": [
    "userID = 53174\n",
    "topRecommendations = getTopNRecommentationsforUser(userID,N,minRating,ratings_pivot)\n",
    "print(topRecommendations)\n",
    "print (ratingsOriginal[(ratingsOriginal['userID'] == userID) & ratingsOriginal['ISBN'].isin(topRecommendations)])"
   ]
  },
  {
   "cell_type": "code",
   "execution_count": 14,
   "metadata": {
    "collapsed": false
   },
   "outputs": [
    {
     "name": "stdout",
     "output_type": "stream",
     "text": [
      "26                                            Wild Animus\n",
      "107                    The Five People You Meet in Heaven\n",
      "207                                                 Congo\n",
      "245     Wicked: The Life and Times of the Wicked Witch...\n",
      "410                                              Hannibal\n",
      "563                                            Life of Pi\n",
      "608      The Vampire Lestat (Vampire Chronicles, Book II)\n",
      "1051                                        SHIPPING NEWS\n",
      "1129                                       Kiss the Girls\n",
      "1194                                           Red Dragon\n",
      "1387                              A Prayer for Owen Meany\n",
      "1406    The No. 1 Ladies' Detective Agency (Today Show...\n",
      "1776                                          The Partner\n",
      "1777                                         The Alienist\n",
      "1908    Into Thin Air : A Personal Account of the Mt. ...\n",
      "1922                               Snow Falling on Cedars\n",
      "2230                                       Fahrenheit 451\n",
      "2536     The Book of Ruth (Oprah's Book Club (Paperback))\n",
      "2866                                     Violets Are Blue\n",
      "2988                                    Midwives: A Novel\n",
      "4020                                    Circle of Friends\n",
      "4123                                  The Prince of Tides\n",
      "4180                        The Bridges of Madison County\n",
      "4479                                 Silence of the Lambs\n",
      "4723                                           Disclosure\n",
      "5175                                We Were the Mulvaneys\n",
      "5607                                   A Walk to Remember\n",
      "6196           Full House (Janet Evanovich's Full Series)\n",
      "7851    B Is for Burglar (Kinsey Millhone Mysteries (P...\n",
      "Name: bookTitle, dtype: object\n"
     ]
    }
   ],
   "source": [
    "print(books[books['ISBN'].isin(topRecommendations)][\"bookTitle\"])"
   ]
  },
  {
   "cell_type": "code",
   "execution_count": 15,
   "metadata": {
    "collapsed": false
   },
   "outputs": [
    {
     "name": "stdout",
     "output_type": "stream",
     "text": [
      "['0446611212', '0385265700', '080410753X', '0446610038', '0553280341', '0345378490', '0385492081', '0345391055', '0440236673', '0553268880', '0553572997', '0440241073', '014028009X', '0440221471', '0345370775', '0345361792', '044651652X', '0440234743', '0440214041', '0385484518', '080410526X', '0449212602', '0446606812', '0316666343', '0446608955', '0671001795', '0671510053', '067976402X', '0375707972', '0345353145']\n",
      "       userID        ISBN  bookRating\n",
      "18025    3363  0316666343           0\n",
      "18229    3363  0440234743           0\n",
      "18230    3363  0440236673           0\n",
      "18254    3363  0446606812           0\n",
      "18565    3363  080410526X           0\n"
     ]
    }
   ],
   "source": [
    "userID = 3363\n",
    "topRecommendations = getTopNRecommentationsforUserAvg(userID,N,minRating,ratings_pivot)\n",
    "print(topRecommendations)\n",
    "print (ratingsOriginal[(ratingsOriginal['userID'] == userID) & ratingsOriginal['ISBN'].isin(topRecommendations)])"
   ]
  },
  {
   "cell_type": "code",
   "execution_count": 16,
   "metadata": {
    "collapsed": false
   },
   "outputs": [
    {
     "name": "stdout",
     "output_type": "stream",
     "text": [
      "18                                          The Testament\n",
      "207                                                 Congo\n",
      "408                             The Lovely Bones: A Novel\n",
      "1051                                        SHIPPING NEWS\n",
      "1195                                        Jurassic Park\n",
      "1355                                  Message in a Bottle\n",
      "1387                              A Prayer for Owen Meany\n",
      "1429                               The Kitchen God's Wife\n",
      "1702                                           The Reader\n",
      "1777                                         The Alienist\n",
      "1802                                         The Brethren\n",
      "1863                                  1st to Die: A Novel\n",
      "1908    Into Thin Air : A Personal Account of the Mt. ...\n",
      "1922                               Snow Falling on Cedars\n",
      "1985                                  The Handmaid's Tale\n",
      "2290    Tuesdays with Morrie: An Old Man, a Young Man,...\n",
      "2442                                               Sphere\n",
      "2445                                    The Pelican Brief\n",
      "2536     The Book of Ruth (Oprah's Book Club (Paperback))\n",
      "2866                                     Violets Are Blue\n",
      "3290                                     The Runaway Jury\n",
      "4123                                  The Prince of Tides\n",
      "4180                        The Bridges of Madison County\n",
      "4723                                           Disclosure\n",
      "5070                                Bridget Jones's Diary\n",
      "5309                            All I Really Need to Know\n",
      "5607                                   A Walk to Remember\n",
      "5662                                          The Summons\n",
      "5887                                    Two for the Dough\n",
      "7851    B Is for Burglar (Kinsey Millhone Mysteries (P...\n",
      "Name: bookTitle, dtype: object\n"
     ]
    }
   ],
   "source": [
    "print(books[books['ISBN'].isin(topRecommendations)][\"bookTitle\"])"
   ]
  },
  {
   "cell_type": "code",
   "execution_count": 17,
   "metadata": {
    "collapsed": false
   },
   "outputs": [
    {
     "name": "stdout",
     "output_type": "stream",
     "text": [
      "['0553268880', '0345391055', '0446601241', '044651652X', '0345378490', '0345370775', '0440221471', '0446364193', '0553280341', '0345361792', '0345313860', '0671001795', '044021145X', '0446608955', '080410753X', '0440234743', '0446607657', '0312966091', '0971880107', '0440236673', '014028009X', '0449212602', '0804106304', '0446611212', '0440241073', '0440224675', '0671510053', '059035342X', '0345380371', '0452282829']\n",
      "        userID        ISBN  bookRating\n",
      "230049   53174  0345313860           9\n",
      "230252   53174  0446364193           7\n",
      "230347   53174  0553268880           9\n",
      "230353   53174  0553280341           0\n",
      "230534   53174  0971880107           0\n"
     ]
    }
   ],
   "source": [
    "userID = 53174\n",
    "topRecommendations = getTopNRecommentationsforUserAvg(userID,N,minRating,ratings_pivot)\n",
    "print(topRecommendations)\n",
    "print (ratingsOriginal[(ratingsOriginal['userID'] == userID) & ratingsOriginal['ISBN'].isin(topRecommendations)])"
   ]
  },
  {
   "cell_type": "code",
   "execution_count": 18,
   "metadata": {
    "collapsed": false
   },
   "outputs": [
    {
     "name": "stdout",
     "output_type": "stream",
     "text": [
      "18                                          The Testament\n",
      "26                                            Wild Animus\n",
      "67                                      The Joy Luck Club\n",
      "207                                                 Congo\n",
      "410                                              Hannibal\n",
      "456                                              The Firm\n",
      "608      The Vampire Lestat (Vampire Chronicles, Book II)\n",
      "677               Along Came a Spider (Alex Cross Novels)\n",
      "1051                                        SHIPPING NEWS\n",
      "1129                                       Kiss the Girls\n",
      "1195                                        Jurassic Park\n",
      "1387                              A Prayer for Owen Meany\n",
      "1429                               The Kitchen God's Wife\n",
      "1802                                         The Brethren\n",
      "1860                                           Rising Sun\n",
      "1985                                  The Handmaid's Tale\n",
      "2143    Harry Potter and the Sorcerer's Stone (Harry P...\n",
      "2866                                     Violets Are Blue\n",
      "3290                                     The Runaway Jury\n",
      "4123                                  The Prince of Tides\n",
      "4180                        The Bridges of Madison County\n",
      "4723                                           Disclosure\n",
      "5070                                Bridget Jones's Diary\n",
      "5175                                We Were the Mulvaneys\n",
      "5607                                   A Walk to Remember\n",
      "5662                                          The Summons\n",
      "5873    Three To Get Deadly : A Stephanie Plum Novel (...\n",
      "5887                                    Two for the Dough\n",
      "7851    B Is for Burglar (Kinsey Millhone Mysteries (P...\n",
      "7861                                  When the Wind Blows\n",
      "Name: bookTitle, dtype: object\n"
     ]
    }
   ],
   "source": [
    "print(books[books['ISBN'].isin(topRecommendations)][\"bookTitle\"])"
   ]
  },
  {
   "cell_type": "markdown",
   "metadata": {},
   "source": [
    "### As shown above I printed the books rating that was recommended by this system and rated by the user himself, but not considered in the system as they didn't meet the minimum ratings count as discussed the individual rating technique returns better results"
   ]
  },
  {
   "cell_type": "code",
   "execution_count": null,
   "metadata": {
    "collapsed": true
   },
   "outputs": [],
   "source": []
  }
 ],
 "metadata": {
  "kernelspec": {
   "display_name": "Python 3",
   "language": "python",
   "name": "python3"
  },
  "language_info": {
   "codemirror_mode": {
    "name": "ipython",
    "version": 3
   },
   "file_extension": ".py",
   "mimetype": "text/x-python",
   "name": "python",
   "nbconvert_exporter": "python",
   "pygments_lexer": "ipython3",
   "version": "3.6.0"
  }
 },
 "nbformat": 4,
 "nbformat_minor": 2
}
